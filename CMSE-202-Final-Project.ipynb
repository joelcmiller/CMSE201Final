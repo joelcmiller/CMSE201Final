{
 "cells": [
  {
   "cell_type": "markdown",
   "id": "8ab28a2f",
   "metadata": {},
   "source": [
    "Variables: Death rate, chance of infecting neighbor, chance of dying while infected, time to recover, vaccine intro date, vaccine effectiveness\n",
    "\n",
    "\n",
    "Constants: Normal death rate, birth rate, radom chance of moving in random direction"
   ]
  }
 ],
 "metadata": {
  "kernelspec": {
   "display_name": "Python 3 (ipykernel)",
   "language": "python",
   "name": "python3"
  },
  "language_info": {
   "codemirror_mode": {
    "name": "ipython",
    "version": 3
   },
   "file_extension": ".py",
   "mimetype": "text/x-python",
   "name": "python",
   "nbconvert_exporter": "python",
   "pygments_lexer": "ipython3",
   "version": "3.8.11"
  }
 },
 "nbformat": 4,
 "nbformat_minor": 5
}
