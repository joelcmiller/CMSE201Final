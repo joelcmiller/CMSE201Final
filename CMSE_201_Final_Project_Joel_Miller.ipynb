{
 "cells": [
  {
   "cell_type": "markdown",
   "metadata": {},
   "source": [
    "**CMSE 201 (Sec. 001) Final Project: The Effect of Political Polarization on State Responses to the COVID-19 Pandemic**\n",
    "    \n",
    "\n",
    "**Joel Miller**"
   ]
  },
  {
   "cell_type": "markdown",
   "metadata": {},
   "source": [
    "**Question**\n",
    "“Does having a government trifecta in a particular state make that state any more or less likely to implement mask mandates; and does the type of trifecta make a difference?”\n",
    "\n",
    "**Background and Motivation**\n",
    "\n",
    "This problem is something that is undoubtedly relevent to people in the United States, as we have seen partisan politics divide us as a result of events that would have historically drawn us together to work for a common goal. The COVID-19 Pandemic has led many American communities—on the state and local levels—to put in place mask mandates, which require people to wear masks in public places to prevent people who may unknowingly be infected from infecting those around them. A useful tactic for the political right has been to bolster their libretarian facade by pushing the idea that mask mandates are a blatant restriction of individual liberties. There is no doubt that this division has threatened discourse, but whether or not it has truly manifested in legislative policy or executive action has yet to be seen. The intention of this study is to see whether or not control over the two elected branches of state government correlates with a change in mask mandate prevelance. It is hypothesized that when a state government has in place a Republican trifecta (controlling power over the state house, state senate and gubinitorial office), that state is less likely to have in place mask mandates than both a divided government and a Democratic trifecta. A Democratic trifecta is expected to be more likely to implement mask mandate policies than either Republican trifectas or divided governments.\n",
    "\n",
    "**Methodology**\n",
    "\n",
    "Independent Variable: Trifecta Status (Whether there is a Democratic trifecta, Republican trifecta, or a divided government) in a particular state\n",
    "\n",
    "Dependent Variable: Whether or not there is a mask mandate in palce in a particular county on a particular day\n",
    "\n",
    "\n",
    "Working with large datasets that have different methods of organization requires significant reconfiguration of Pandas dataframes before they can be used effectively. The fact that one dataset uses state abreviations and the other uses full state names adds another level of complexity.\n",
    "\n",
    "First, the mask mandate data from the CDC is imported and reconfigured. The large dataset was split up into a different dataset for each state. Each dataset contains a row for every day in every county in that state between April 10, 2020 and January 10, 2021. Column 5 of each dataset is looped through to check whether there is a mask mandate or not. This is then used to calculate a proportion of county-days during which that particualr state has a mask mandate.\n",
    "\n",
    "Second, the trifecta status data from Ballotpedia is imported and reconfigured. This data is split into three lists, one for each trifecta status. Each list of state names is converted into abreviations using the FIPS and postal code dataframe.\n",
    "\n",
    "With both datasets properly configured, the proportions are matched up with the proper states, and data analysis is run to discover a potential difference in means."
   ]
  },
  {
   "cell_type": "markdown",
   "metadata": {},
   "source": [
    "**Imports**"
   ]
  },
  {
   "cell_type": "code",
   "execution_count": 369,
   "metadata": {},
   "outputs": [],
   "source": [
    "import numpy as np\n",
    "import pandas as pd\n",
    "import matplotlib.pyplot as plt\n",
    "%matplotlib inline\n",
    "import seaborn as sns\n",
    "sns.set_theme(style=\"ticks\", color_codes=True)\n",
    "from scipy import stats"
   ]
  },
  {
   "cell_type": "code",
   "execution_count": 382,
   "metadata": {
    "scrolled": true
   },
   "outputs": [],
   "source": [
    "# read in the CDC Mask Mandate Dataset\n",
    "mandates = pd.read_csv(\"U.S._State_and_Territorial_Public_Mask_Mandates_From_April_10__2020_through_January_10__2021_by_County_by_Day.csv\", skiprows=0)"
   ]
  },
  {
   "cell_type": "markdown",
   "metadata": {},
   "source": [
    "**Prepping Mask Mandate Data**"
   ]
  },
  {
   "cell_type": "code",
   "execution_count": 381,
   "metadata": {},
   "outputs": [],
   "source": [
    "mandate_state = mandates.iloc[:,0] # Column zero has state postal codes\n",
    "unique_state = pd.unique(mandate_state) # unique function to take only unique states (not repeat)"
   ]
  },
  {
   "cell_type": "code",
   "execution_count": 372,
   "metadata": {
    "scrolled": true
   },
   "outputs": [],
   "source": [
    "percentage_list = []\n",
    "\n",
    "val = 0\n",
    "for state in unique_state: # for each unique state\n",
    "    \n",
    "    mask = mandate_state == state # where the state is equal to the unique state in question...\n",
    "    state_df = mandates[mask] # create a df that only contains the data from that unique state\n",
    "    ismandate_state = state_df.iloc[:,5] # might not need this\n",
    "    \n",
    "    yes_mandate = []\n",
    "    no_mandate = []\n",
    "    \n",
    "    for countyday in ismandate_state: # for each row in the unique state df\n",
    "        if countyday == \"No Public Mask Mandate\":\n",
    "            no_mandate.append(1)\n",
    "        elif countyday == \"Public Mask Mandate\":\n",
    "            yes_mandate.append(1)\n",
    "    percentage = len(yes_mandate) / (len(yes_mandate) + len(no_mandate))\n",
    "    percentage_list.append(percentage)"
   ]
  },
  {
   "cell_type": "code",
   "execution_count": 373,
   "metadata": {},
   "outputs": [],
   "source": [
    "# MAKE A NEW DATAFRAME THAT HAS ABREVIATED STATE NAMES AND PERCENTAGES COUNTYDAYS\n",
    "# https://pandas.pydata.org/pandas-docs/stable/reference/api/pandas.DataFrame.html\n",
    "# learned how to make a dataframe from scratch\n",
    "my_data = {'col1': unique_state, 'col2': percentage_list}\n",
    "my_dataframe = pd.DataFrame(data = my_data)"
   ]
  },
  {
   "cell_type": "markdown",
   "metadata": {},
   "source": [
    "**Prepping Trifecta Data**"
   ]
  },
  {
   "cell_type": "code",
   "execution_count": 374,
   "metadata": {},
   "outputs": [],
   "source": [
    "# READING IN ESSENTIAL CSV FILES\n",
    "trifectas = pd.read_csv(\"Trifecta_Status.csv\")\n",
    "# https://ballotpedia.org/State_government_trifectas\n",
    "fips = pd.read_csv(\"FIPS_Postal.csv\")\n",
    "# need to use FIPS or postal code to deal with full name versus abreviation between datasets\n",
    "# https://www.nrcs.usda.gov/wps/portal/nrcs/detail/?cid=nrcs143_013696"
   ]
  },
  {
   "cell_type": "code",
   "execution_count": 375,
   "metadata": {},
   "outputs": [],
   "source": [
    "# ORGANIZE STATES INTO SEPERATE LISTS CONTAINING EITHER DEM OR REP TRIFECTAS OR DIVIDED\n",
    "trifecta_status = trifectas.iloc[:,1] # column containing trifecta status of a state\n",
    "trifecta_state = trifectas.iloc[:,0] # state name for reference\n",
    "rep_list = [] # initialize lists to store state names later\n",
    "dem_list = []\n",
    "div_list = []\n",
    "val = 0\n",
    "for status in trifecta_status: # loop through the trifecta statuses\n",
    "    if status == \"Republican trifecta\": # depending on what status they are, seperate them into three different lists\n",
    "        rep_list.append(trifecta_state[val])\n",
    "    elif status == \"Democratic trifecta\":\n",
    "        dem_list.append(trifecta_state[val])\n",
    "    elif status == \"Divided government\":\n",
    "        div_list.append(trifecta_state[val])  \n",
    "    val+=1"
   ]
  },
  {
   "cell_type": "code",
   "execution_count": 376,
   "metadata": {},
   "outputs": [],
   "source": [
    "# CONVERT STATE NAMES TO ABREVIATIONS\n",
    "abr = fips.iloc[:,1] # the first column has the abreviated state names\n",
    "state_name = fips.iloc[:,0] # the zeroth column has the full state names\n",
    "rep_abr = [] # define lists for abreviations to replace the non-abreviated lists\n",
    "dem_abr = []\n",
    "div_abr = []\n",
    "\n",
    "val = 0\n",
    "for full_name in state_name: # loops through every full state name in the fips dataset\n",
    "    for rep_state in rep_list: # loops through the full state names in the sorted rep dataset\n",
    "        if rep_state == full_name: # if they are the same:\n",
    "            rep_abr.append(abr[val]) # add the abreviated version to the new rep abreviated list\n",
    "    val+=1\n",
    "\n",
    "\n",
    "val = 0\n",
    "for full_name in state_name: # repeat for other two sorted datasets\n",
    "    for dem_state in dem_list:\n",
    "        if dem_state == full_name:\n",
    "            dem_abr.append(abr[val])\n",
    "    val+=1\n",
    "\n",
    "val = 0\n",
    "for full_name in state_name:\n",
    "    for div_state in div_list:\n",
    "        if div_state == full_name:\n",
    "            div_abr.append(abr[val])\n",
    "    val+=1"
   ]
  },
  {
   "cell_type": "markdown",
   "metadata": {},
   "source": [
    "**Putting it All Together**"
   ]
  },
  {
   "cell_type": "code",
   "execution_count": 377,
   "metadata": {},
   "outputs": [],
   "source": [
    "# PUTTING THE TWO DATASETS TOGETHER\n",
    "state_percents_state = my_dataframe.iloc[:,0] # state names from my dataset\n",
    "state_percents = my_dataframe.iloc[:,1] # percentages\n",
    "\n",
    "rep_abr_final = []\n",
    "dem_abr_final = []\n",
    "div_abr_final = []\n",
    "\n",
    "rep_percentage = []\n",
    "dem_percentage = []\n",
    "div_percentage = []\n",
    "\n",
    "val = 0\n",
    "for trifecta_state in rep_abr: # for the republican trifecta states\n",
    "    for my_state in state_percents_state: # for every state in my dataset\n",
    "        if trifecta_state == my_state: # when my dataset state name equals the trifecta dataset state name:\n",
    "            rep_abr_final.append(trifecta_state) # add the name to a list\n",
    "            rep_percentage.append(state_percents[state_percents_state == my_state]) # add the percent to a list         \n",
    "    val += 1\n",
    "    \n",
    "val = 0\n",
    "for trifecta_state in dem_abr: # repeat for other two categories\n",
    "    for my_state in state_percents_state:\n",
    "        if trifecta_state == my_state:\n",
    "            dem_abr_final.append(trifecta_state)\n",
    "            dem_percentage.append(state_percents[state_percents_state == my_state])   \n",
    "    val += 1\n",
    "    \n",
    "val = 0\n",
    "for trifecta_state in div_abr:\n",
    "    for my_state in state_percents_state:\n",
    "        if trifecta_state == my_state:\n",
    "            div_abr_final.append(trifecta_state)\n",
    "            div_percentage.append(state_percents[state_percents_state == my_state])         \n",
    "    val += 1"
   ]
  },
  {
   "cell_type": "markdown",
   "metadata": {},
   "source": [
    "**Results**"
   ]
  },
  {
   "cell_type": "code",
   "execution_count": 378,
   "metadata": {
    "scrolled": true
   },
   "outputs": [
    {
     "name": "stdout",
     "output_type": "stream",
     "text": [
      "republican trifectas mean:  0.26524918319665003 standard deviation:  0.2840537681907777\n",
      "divided governments mean:  0.6935386473429951 standard deviation:  0.25226282136903416\n",
      "democratic trifectas mean:  0.8556653491436099 standard deviation:  0.11291540276345725\n"
     ]
    }
   ],
   "source": [
    "# VISUALIZATION AND DATA ANALYTICS\n",
    "# Means and Standard Deviations of Each Subgroup\n",
    "rep_array = np.array(rep_percentage) # make them arrays so we can do math on them\n",
    "dem_array = np.array(dem_percentage)\n",
    "div_array = np.array(div_percentage)\n",
    "rep_mean = rep_array.mean() # take means of arrays\n",
    "dem_mean = dem_array.mean()\n",
    "div_mean = div_array.mean()\n",
    "rep_std = rep_array.std() # take standard deviation of arrays\n",
    "div_std = div_array.std()\n",
    "dem_std = dem_array.std()\n",
    "print(\"republican trifectas mean: \", rep_mean, \"standard deviation: \", rep_std)\n",
    "print(\"divided governments mean: \", div_mean, \"standard deviation: \", div_std)\n",
    "print(\"democratic trifectas mean: \", dem_mean, \"standard deviation: \", dem_std)"
   ]
  },
  {
   "cell_type": "markdown",
   "metadata": {},
   "source": [
    "The Democratic trifectas having a higher mean indicates that, on average, they are more likely to have widespread mask mandates in place than the other groups."
   ]
  },
  {
   "cell_type": "code",
   "execution_count": 379,
   "metadata": {},
   "outputs": [
    {
     "data": {
      "text/plain": [
       "[(0.0, 1.0)]"
      ]
     },
     "execution_count": 379,
     "metadata": {},
     "output_type": "execute_result"
    },
    {
     "data": {
      "image/png": "[encoded data removed]",
      "text/plain": [
       "<Figure size 432x288 with 1 Axes>"
      ]
     },
     "metadata": {},
     "output_type": "display_data"
    }
   ],
   "source": [
    "# HISTOGRAMS\n",
    "my_plot2 = sns.violinplot(data = (rep_array, div_array, dem_array)) # plot each array\n",
    "my_plot2.set(xlabel = \"Government Type\", ylabel = \"Proportion of County Days with Mask Mandate\") # labels\n",
    "my_plot2.set(title = \"State Likelihood of Mandate by Trifecta Status\") # title\n",
    "my_plot2.set(ylim=(0,1)) # only from 0% to 100%\n",
    "# https://www.codegrepper.com/code-examples/python/seaborn+rename+labels"
   ]
  },
  {
   "cell_type": "markdown",
   "metadata": {},
   "source": [
    "This violin plot is helpful in understanding the difference in mask mandate prevelance between government types (from left to right: Republican trifecta, divided government, Democratic trifecta). The correct way to interperet the probability on the y-axis is that if you pick a random day (April 10, 2020–January 10, 2021) in a random county in that state, it is the probability that there would be a mask mandate in place."
   ]
  },
  {
   "cell_type": "code",
   "execution_count": 380,
   "metadata": {},
   "outputs": [
    {
     "data": {
      "text/plain": [
       "Text(0.5, 1.0, 'State Likelihood of Mandate')"
      ]
     },
     "execution_count": 380,
     "metadata": {},
     "output_type": "execute_result"
    },
    {
     "data": {
      "image/png": "[encoded data removed]",
      "text/plain": [
       "<Figure size 432x288 with 1 Axes>"
      ]
     },
     "metadata": {},
     "output_type": "display_data"
    }
   ],
   "source": [
    "plt.hist(percentage_list) # plot all of the states in one histogram\n",
    "plt.xlabel(\"Proportion of County Days with Mask Mandate\")\n",
    "plt.ylabel(\"Number of States\")\n",
    "plt.title(\"State Likelihood of Mandate\")"
   ]
  },
  {
   "cell_type": "markdown",
   "metadata": {},
   "source": [
    "**Synthesis and Discussion**\n",
    "\n",
    "I learned that trifecta status is an accurate predictor of mask mandate prevelance within states. There is a very large difference in the likelihood of having mask mandates in states with Democratic trifectas and states with Republican trifectas (~59% difference).\n",
    "\n",
    "Some obstacles that I ran into were the datasets being in very different formats. It wasn't as simple as comparing one column to another. It was also necessary to convert full state names to abreviations, which was a bit of a chore, but easily overcome.\n",
    "\n",
    "Next time, I would dig a little deeper and try to determine if a political party having control over the legislature or the governor's office is more determinant. It would also be interesting to see how this correlation has changed with time.\n",
    "\n",
    "Having a government trifecta does correlate with a change in mask mandate prevelance between states. States with Republican trifectas are less likely than divided goverments to implement mask mandates, and states with Democratic trifectas are much more likely to implement mask mandates than divided governments."
   ]
  },
  {
   "cell_type": "markdown",
   "metadata": {},
   "source": [
    "**References**\n",
    "\n",
    "pandas.DataFrame. pandas.DataFrame - pandas 1.2.4 documentation. (n.d.). https://pandas.pydata.org/pandas-docs/stable/reference/api/pandas.DataFrame.html. \n",
    "\n",
    "Publisher Environmental Public Health Tracking. (2021, April 17). U.S. State and Territorial Public Mask Mandates From April 10, 2020 through March 22, 2021 by County by Day. U.S. State and Territorial Public Mask Mandates From April 10, 2020 through March 22, 2021 by County by Day - CKAN. https://catalog.data.gov/dataset/u-s-state-and-territorial-public-mask-mandates-from-april-10-2020-through-january-10-2021-. \n",
    "\n",
    "Natural Resources Conservation Service. State FIPS Codes. (n.d.). https://www.nrcs.usda.gov/wps/portal/nrcs/detail/?cid=nrcs143_013696. \n",
    "\n",
    "seaborn rename labels Code Example. (n.d.). https://www.codegrepper.com/code-examples/python/seaborn+rename+labels. \n",
    "\n",
    "State government trifectas. Ballotpedia. (n.d.). https://ballotpedia.org/State_government_trifectas. "
   ]
  },
  {
   "cell_type": "code",
   "execution_count": null,
   "metadata": {},
   "outputs": [],
   "source": []
  }
 ],
 "metadata": {
  "kernelspec": {
   "display_name": "Python 3 (ipykernel)",
   "language": "python",
   "name": "python3"
  },
  "language_info": {
   "codemirror_mode": {
    "name": "ipython",
    "version": 3
   },
   "file_extension": ".py",
   "mimetype": "text/x-python",
   "name": "python",
   "nbconvert_exporter": "python",
   "pygments_lexer": "ipython3",
   "version": "3.8.11"
  }
 },
 "nbformat": 4,
 "nbformat_minor": 4
}
